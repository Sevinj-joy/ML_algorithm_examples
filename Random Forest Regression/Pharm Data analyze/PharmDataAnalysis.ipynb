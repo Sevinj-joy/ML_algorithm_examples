{
 "cells": [
  {
   "cell_type": "code",
   "id": "initial_id",
   "metadata": {
    "collapsed": true,
    "ExecuteTime": {
     "end_time": "2025-03-14T07:53:18.215036Z",
     "start_time": "2025-03-14T07:53:18.210626Z"
    }
   },
   "source": [
    "import pandas as pd\n",
    "import numpy as np\n",
    "import matplotlib.pyplot as plt\n",
    "import seaborn as sns"
   ],
   "outputs": [],
   "execution_count": 1
  },
  {
   "metadata": {
    "ExecuteTime": {
     "end_time": "2025-03-14T07:53:18.846380Z",
     "start_time": "2025-03-14T07:53:18.222020Z"
    }
   },
   "cell_type": "code",
   "source": "data=pd.read_csv('PharmData.csv')",
   "id": "ed3033031acd41ce",
   "outputs": [],
   "execution_count": 2
  },
  {
   "metadata": {
    "ExecuteTime": {
     "end_time": "2025-03-14T07:53:19.373414Z",
     "start_time": "2025-03-14T07:53:19.351449Z"
    }
   },
   "cell_type": "code",
   "source": "data.head(10)",
   "id": "8890637ac61c8bbe",
   "outputs": [
    {
     "data": {
      "text/plain": [
       "              Distributor                         Customer Name        City  \\\n",
       "0  Gottlieb-Cruickshank                 Zieme, Doyle and Kunze       Lublin   \n",
       "1  Gottlieb-Cruickshank                              Feest PLC      Świecie   \n",
       "2  Gottlieb-Cruickshank    Medhurst-Beer Pharmaceutical Limited      Rybnik   \n",
       "3  Gottlieb-Cruickshank                   Barton Ltd Pharma Plc     Czeladź   \n",
       "4  Gottlieb-Cruickshank                    Keeling LLC Pharmacy     Olsztyn   \n",
       "5  Gottlieb-Cruickshank      Runte-Marquardt Pharmaceutical Ltd      Olecko   \n",
       "6  Gottlieb-Cruickshank          Blick, Pacocha and Schowalter   Inowrocław   \n",
       "7  Gottlieb-Cruickshank                   Leuschke PLC Pharmacy   Ciechanów   \n",
       "8  Gottlieb-Cruickshank           Miller-Satterfield Pharma Plc     Nidzica   \n",
       "9  Gottlieb-Cruickshank           Bashirian-Kassulke Pharma Plc      Kraków   \n",
       "\n",
       "  Country  Latitude  Longitude   Channel  Sub-channel            Product Name  \\\n",
       "0  Poland   51.2333    22.5667  Hospital      Private              Topipizole   \n",
       "1  Poland   53.4167    18.4333  Pharmacy       Retail            Choriotrisin   \n",
       "2  Poland   50.0833    18.5000  Pharmacy  Institution               Acantaine   \n",
       "3  Poland   50.3333    19.0833  Hospital      Private    Lioletine Refliruvax   \n",
       "4  Poland   53.7800    20.4942  Pharmacy       Retail  Oxymotroban Fexoformin   \n",
       "5  Poland   54.0333    22.5000  Hospital      Private               Pazofenac   \n",
       "6  Poland   52.7958    18.2611  Pharmacy       Retail               Symbitrim   \n",
       "7  Poland   52.8817    20.6106  Pharmacy       Retail    Morphizolid Tianalin   \n",
       "8  Poland   53.3583    20.4250  Hospital      Private                 Lovapur   \n",
       "9  Poland   50.0614    19.9372  Hospital      Private                 Ampysin   \n",
       "\n",
       "      Product Class  Quantity  Price    Sales    Month  Year  \\\n",
       "0  Mood Stabilizers       4.0    368   1472.0  January  2018   \n",
       "1       Antibiotics       7.0    591   4137.0  January  2018   \n",
       "2       Antibiotics      30.0     66   1980.0  January  2018   \n",
       "3        Analgesics       6.0    435   2610.0  January  2018   \n",
       "4        Analgesics      20.0    458   9160.0  January  2018   \n",
       "5  Mood Stabilizers       5.0    123    615.0  January  2018   \n",
       "6        Analgesics      20.0    536  10720.0  January  2018   \n",
       "7  Mood Stabilizers       5.0    742   3710.0  January  2018   \n",
       "8  Mood Stabilizers       4.0    551   2204.0  January  2018   \n",
       "9        Analgesics      10.0    243   2430.0  January  2018   \n",
       "\n",
       "   Name of Sales Rep          Manager Sales Team  \n",
       "0       Mary Gerrard    Britanny Bold      Delta  \n",
       "1      Jessica Smith    Britanny Bold      Delta  \n",
       "2       Steve Pepple      Tracy Banks      Bravo  \n",
       "3       Mary Gerrard    Britanny Bold      Delta  \n",
       "4            Anne Wu    Britanny Bold      Delta  \n",
       "5  Thompson Crawford   James Goodwill       Alfa  \n",
       "6      Sheila Stones    Britanny Bold      Delta  \n",
       "7       Mary Gerrard    Britanny Bold      Delta  \n",
       "8       Stella Given  Alisha Cordwell    Charlie  \n",
       "9      Morris Garcia      Tracy Banks      Bravo  "
      ],
      "text/html": [
       "<div>\n",
       "<style scoped>\n",
       "    .dataframe tbody tr th:only-of-type {\n",
       "        vertical-align: middle;\n",
       "    }\n",
       "\n",
       "    .dataframe tbody tr th {\n",
       "        vertical-align: top;\n",
       "    }\n",
       "\n",
       "    .dataframe thead th {\n",
       "        text-align: right;\n",
       "    }\n",
       "</style>\n",
       "<table border=\"1\" class=\"dataframe\">\n",
       "  <thead>\n",
       "    <tr style=\"text-align: right;\">\n",
       "      <th></th>\n",
       "      <th>Distributor</th>\n",
       "      <th>Customer Name</th>\n",
       "      <th>City</th>\n",
       "      <th>Country</th>\n",
       "      <th>Latitude</th>\n",
       "      <th>Longitude</th>\n",
       "      <th>Channel</th>\n",
       "      <th>Sub-channel</th>\n",
       "      <th>Product Name</th>\n",
       "      <th>Product Class</th>\n",
       "      <th>Quantity</th>\n",
       "      <th>Price</th>\n",
       "      <th>Sales</th>\n",
       "      <th>Month</th>\n",
       "      <th>Year</th>\n",
       "      <th>Name of Sales Rep</th>\n",
       "      <th>Manager</th>\n",
       "      <th>Sales Team</th>\n",
       "    </tr>\n",
       "  </thead>\n",
       "  <tbody>\n",
       "    <tr>\n",
       "      <th>0</th>\n",
       "      <td>Gottlieb-Cruickshank</td>\n",
       "      <td>Zieme, Doyle and Kunze</td>\n",
       "      <td>Lublin</td>\n",
       "      <td>Poland</td>\n",
       "      <td>51.2333</td>\n",
       "      <td>22.5667</td>\n",
       "      <td>Hospital</td>\n",
       "      <td>Private</td>\n",
       "      <td>Topipizole</td>\n",
       "      <td>Mood Stabilizers</td>\n",
       "      <td>4.0</td>\n",
       "      <td>368</td>\n",
       "      <td>1472.0</td>\n",
       "      <td>January</td>\n",
       "      <td>2018</td>\n",
       "      <td>Mary Gerrard</td>\n",
       "      <td>Britanny Bold</td>\n",
       "      <td>Delta</td>\n",
       "    </tr>\n",
       "    <tr>\n",
       "      <th>1</th>\n",
       "      <td>Gottlieb-Cruickshank</td>\n",
       "      <td>Feest PLC</td>\n",
       "      <td>Świecie</td>\n",
       "      <td>Poland</td>\n",
       "      <td>53.4167</td>\n",
       "      <td>18.4333</td>\n",
       "      <td>Pharmacy</td>\n",
       "      <td>Retail</td>\n",
       "      <td>Choriotrisin</td>\n",
       "      <td>Antibiotics</td>\n",
       "      <td>7.0</td>\n",
       "      <td>591</td>\n",
       "      <td>4137.0</td>\n",
       "      <td>January</td>\n",
       "      <td>2018</td>\n",
       "      <td>Jessica Smith</td>\n",
       "      <td>Britanny Bold</td>\n",
       "      <td>Delta</td>\n",
       "    </tr>\n",
       "    <tr>\n",
       "      <th>2</th>\n",
       "      <td>Gottlieb-Cruickshank</td>\n",
       "      <td>Medhurst-Beer Pharmaceutical Limited</td>\n",
       "      <td>Rybnik</td>\n",
       "      <td>Poland</td>\n",
       "      <td>50.0833</td>\n",
       "      <td>18.5000</td>\n",
       "      <td>Pharmacy</td>\n",
       "      <td>Institution</td>\n",
       "      <td>Acantaine</td>\n",
       "      <td>Antibiotics</td>\n",
       "      <td>30.0</td>\n",
       "      <td>66</td>\n",
       "      <td>1980.0</td>\n",
       "      <td>January</td>\n",
       "      <td>2018</td>\n",
       "      <td>Steve Pepple</td>\n",
       "      <td>Tracy Banks</td>\n",
       "      <td>Bravo</td>\n",
       "    </tr>\n",
       "    <tr>\n",
       "      <th>3</th>\n",
       "      <td>Gottlieb-Cruickshank</td>\n",
       "      <td>Barton Ltd Pharma Plc</td>\n",
       "      <td>Czeladź</td>\n",
       "      <td>Poland</td>\n",
       "      <td>50.3333</td>\n",
       "      <td>19.0833</td>\n",
       "      <td>Hospital</td>\n",
       "      <td>Private</td>\n",
       "      <td>Lioletine Refliruvax</td>\n",
       "      <td>Analgesics</td>\n",
       "      <td>6.0</td>\n",
       "      <td>435</td>\n",
       "      <td>2610.0</td>\n",
       "      <td>January</td>\n",
       "      <td>2018</td>\n",
       "      <td>Mary Gerrard</td>\n",
       "      <td>Britanny Bold</td>\n",
       "      <td>Delta</td>\n",
       "    </tr>\n",
       "    <tr>\n",
       "      <th>4</th>\n",
       "      <td>Gottlieb-Cruickshank</td>\n",
       "      <td>Keeling LLC Pharmacy</td>\n",
       "      <td>Olsztyn</td>\n",
       "      <td>Poland</td>\n",
       "      <td>53.7800</td>\n",
       "      <td>20.4942</td>\n",
       "      <td>Pharmacy</td>\n",
       "      <td>Retail</td>\n",
       "      <td>Oxymotroban Fexoformin</td>\n",
       "      <td>Analgesics</td>\n",
       "      <td>20.0</td>\n",
       "      <td>458</td>\n",
       "      <td>9160.0</td>\n",
       "      <td>January</td>\n",
       "      <td>2018</td>\n",
       "      <td>Anne Wu</td>\n",
       "      <td>Britanny Bold</td>\n",
       "      <td>Delta</td>\n",
       "    </tr>\n",
       "    <tr>\n",
       "      <th>5</th>\n",
       "      <td>Gottlieb-Cruickshank</td>\n",
       "      <td>Runte-Marquardt Pharmaceutical Ltd</td>\n",
       "      <td>Olecko</td>\n",
       "      <td>Poland</td>\n",
       "      <td>54.0333</td>\n",
       "      <td>22.5000</td>\n",
       "      <td>Hospital</td>\n",
       "      <td>Private</td>\n",
       "      <td>Pazofenac</td>\n",
       "      <td>Mood Stabilizers</td>\n",
       "      <td>5.0</td>\n",
       "      <td>123</td>\n",
       "      <td>615.0</td>\n",
       "      <td>January</td>\n",
       "      <td>2018</td>\n",
       "      <td>Thompson Crawford</td>\n",
       "      <td>James Goodwill</td>\n",
       "      <td>Alfa</td>\n",
       "    </tr>\n",
       "    <tr>\n",
       "      <th>6</th>\n",
       "      <td>Gottlieb-Cruickshank</td>\n",
       "      <td>Blick, Pacocha and Schowalter</td>\n",
       "      <td>Inowrocław</td>\n",
       "      <td>Poland</td>\n",
       "      <td>52.7958</td>\n",
       "      <td>18.2611</td>\n",
       "      <td>Pharmacy</td>\n",
       "      <td>Retail</td>\n",
       "      <td>Symbitrim</td>\n",
       "      <td>Analgesics</td>\n",
       "      <td>20.0</td>\n",
       "      <td>536</td>\n",
       "      <td>10720.0</td>\n",
       "      <td>January</td>\n",
       "      <td>2018</td>\n",
       "      <td>Sheila Stones</td>\n",
       "      <td>Britanny Bold</td>\n",
       "      <td>Delta</td>\n",
       "    </tr>\n",
       "    <tr>\n",
       "      <th>7</th>\n",
       "      <td>Gottlieb-Cruickshank</td>\n",
       "      <td>Leuschke PLC Pharmacy</td>\n",
       "      <td>Ciechanów</td>\n",
       "      <td>Poland</td>\n",
       "      <td>52.8817</td>\n",
       "      <td>20.6106</td>\n",
       "      <td>Pharmacy</td>\n",
       "      <td>Retail</td>\n",
       "      <td>Morphizolid Tianalin</td>\n",
       "      <td>Mood Stabilizers</td>\n",
       "      <td>5.0</td>\n",
       "      <td>742</td>\n",
       "      <td>3710.0</td>\n",
       "      <td>January</td>\n",
       "      <td>2018</td>\n",
       "      <td>Mary Gerrard</td>\n",
       "      <td>Britanny Bold</td>\n",
       "      <td>Delta</td>\n",
       "    </tr>\n",
       "    <tr>\n",
       "      <th>8</th>\n",
       "      <td>Gottlieb-Cruickshank</td>\n",
       "      <td>Miller-Satterfield Pharma Plc</td>\n",
       "      <td>Nidzica</td>\n",
       "      <td>Poland</td>\n",
       "      <td>53.3583</td>\n",
       "      <td>20.4250</td>\n",
       "      <td>Hospital</td>\n",
       "      <td>Private</td>\n",
       "      <td>Lovapur</td>\n",
       "      <td>Mood Stabilizers</td>\n",
       "      <td>4.0</td>\n",
       "      <td>551</td>\n",
       "      <td>2204.0</td>\n",
       "      <td>January</td>\n",
       "      <td>2018</td>\n",
       "      <td>Stella Given</td>\n",
       "      <td>Alisha Cordwell</td>\n",
       "      <td>Charlie</td>\n",
       "    </tr>\n",
       "    <tr>\n",
       "      <th>9</th>\n",
       "      <td>Gottlieb-Cruickshank</td>\n",
       "      <td>Bashirian-Kassulke Pharma Plc</td>\n",
       "      <td>Kraków</td>\n",
       "      <td>Poland</td>\n",
       "      <td>50.0614</td>\n",
       "      <td>19.9372</td>\n",
       "      <td>Hospital</td>\n",
       "      <td>Private</td>\n",
       "      <td>Ampysin</td>\n",
       "      <td>Analgesics</td>\n",
       "      <td>10.0</td>\n",
       "      <td>243</td>\n",
       "      <td>2430.0</td>\n",
       "      <td>January</td>\n",
       "      <td>2018</td>\n",
       "      <td>Morris Garcia</td>\n",
       "      <td>Tracy Banks</td>\n",
       "      <td>Bravo</td>\n",
       "    </tr>\n",
       "  </tbody>\n",
       "</table>\n",
       "</div>"
      ]
     },
     "execution_count": 3,
     "metadata": {},
     "output_type": "execute_result"
    }
   ],
   "execution_count": 3
  },
  {
   "metadata": {
    "ExecuteTime": {
     "end_time": "2025-03-14T07:53:19.562292Z",
     "start_time": "2025-03-14T07:53:19.432158Z"
    }
   },
   "cell_type": "code",
   "source": "data.describe()",
   "id": "83479d3206106f0b",
   "outputs": [
    {
     "data": {
      "text/plain": [
       "            Latitude      Longitude       Quantity          Price  \\\n",
       "count  254082.000000  254082.000000  254082.000000  254082.000000   \n",
       "mean       50.962222      10.803212     112.872139     412.207720   \n",
       "std         1.625526       4.143311     744.310385     224.963687   \n",
       "min        47.514200       6.083800   -7200.000000      22.000000   \n",
       "25%        49.805600       7.891100       5.000000     195.000000   \n",
       "50%        51.133300       9.397800      20.000000     430.000000   \n",
       "75%        52.083300      12.133300      50.000000     605.000000   \n",
       "max        54.781900      23.566700  117600.000000     794.000000   \n",
       "\n",
       "              Sales           Year  \n",
       "count  2.540820e+05  254082.000000  \n",
       "mean   4.643772e+04    2018.385187  \n",
       "std    3.491918e+05       1.041352  \n",
       "min   -4.161600e+06    2017.000000  \n",
       "25%    1.704000e+03    2018.000000  \n",
       "50%    5.850000e+03    2018.000000  \n",
       "75%    2.156525e+04    2019.000000  \n",
       "max    7.420560e+07    2020.000000  "
      ],
      "text/html": [
       "<div>\n",
       "<style scoped>\n",
       "    .dataframe tbody tr th:only-of-type {\n",
       "        vertical-align: middle;\n",
       "    }\n",
       "\n",
       "    .dataframe tbody tr th {\n",
       "        vertical-align: top;\n",
       "    }\n",
       "\n",
       "    .dataframe thead th {\n",
       "        text-align: right;\n",
       "    }\n",
       "</style>\n",
       "<table border=\"1\" class=\"dataframe\">\n",
       "  <thead>\n",
       "    <tr style=\"text-align: right;\">\n",
       "      <th></th>\n",
       "      <th>Latitude</th>\n",
       "      <th>Longitude</th>\n",
       "      <th>Quantity</th>\n",
       "      <th>Price</th>\n",
       "      <th>Sales</th>\n",
       "      <th>Year</th>\n",
       "    </tr>\n",
       "  </thead>\n",
       "  <tbody>\n",
       "    <tr>\n",
       "      <th>count</th>\n",
       "      <td>254082.000000</td>\n",
       "      <td>254082.000000</td>\n",
       "      <td>254082.000000</td>\n",
       "      <td>254082.000000</td>\n",
       "      <td>2.540820e+05</td>\n",
       "      <td>254082.000000</td>\n",
       "    </tr>\n",
       "    <tr>\n",
       "      <th>mean</th>\n",
       "      <td>50.962222</td>\n",
       "      <td>10.803212</td>\n",
       "      <td>112.872139</td>\n",
       "      <td>412.207720</td>\n",
       "      <td>4.643772e+04</td>\n",
       "      <td>2018.385187</td>\n",
       "    </tr>\n",
       "    <tr>\n",
       "      <th>std</th>\n",
       "      <td>1.625526</td>\n",
       "      <td>4.143311</td>\n",
       "      <td>744.310385</td>\n",
       "      <td>224.963687</td>\n",
       "      <td>3.491918e+05</td>\n",
       "      <td>1.041352</td>\n",
       "    </tr>\n",
       "    <tr>\n",
       "      <th>min</th>\n",
       "      <td>47.514200</td>\n",
       "      <td>6.083800</td>\n",
       "      <td>-7200.000000</td>\n",
       "      <td>22.000000</td>\n",
       "      <td>-4.161600e+06</td>\n",
       "      <td>2017.000000</td>\n",
       "    </tr>\n",
       "    <tr>\n",
       "      <th>25%</th>\n",
       "      <td>49.805600</td>\n",
       "      <td>7.891100</td>\n",
       "      <td>5.000000</td>\n",
       "      <td>195.000000</td>\n",
       "      <td>1.704000e+03</td>\n",
       "      <td>2018.000000</td>\n",
       "    </tr>\n",
       "    <tr>\n",
       "      <th>50%</th>\n",
       "      <td>51.133300</td>\n",
       "      <td>9.397800</td>\n",
       "      <td>20.000000</td>\n",
       "      <td>430.000000</td>\n",
       "      <td>5.850000e+03</td>\n",
       "      <td>2018.000000</td>\n",
       "    </tr>\n",
       "    <tr>\n",
       "      <th>75%</th>\n",
       "      <td>52.083300</td>\n",
       "      <td>12.133300</td>\n",
       "      <td>50.000000</td>\n",
       "      <td>605.000000</td>\n",
       "      <td>2.156525e+04</td>\n",
       "      <td>2019.000000</td>\n",
       "    </tr>\n",
       "    <tr>\n",
       "      <th>max</th>\n",
       "      <td>54.781900</td>\n",
       "      <td>23.566700</td>\n",
       "      <td>117600.000000</td>\n",
       "      <td>794.000000</td>\n",
       "      <td>7.420560e+07</td>\n",
       "      <td>2020.000000</td>\n",
       "    </tr>\n",
       "  </tbody>\n",
       "</table>\n",
       "</div>"
      ]
     },
     "execution_count": 4,
     "metadata": {},
     "output_type": "execute_result"
    }
   ],
   "execution_count": 4
  },
  {
   "metadata": {
    "ExecuteTime": {
     "end_time": "2025-03-14T07:53:19.753521Z",
     "start_time": "2025-03-14T07:53:19.608843Z"
    }
   },
   "cell_type": "code",
   "source": "data.info()",
   "id": "3139625bd5397ce8",
   "outputs": [
    {
     "name": "stdout",
     "output_type": "stream",
     "text": [
      "<class 'pandas.core.frame.DataFrame'>\n",
      "RangeIndex: 254082 entries, 0 to 254081\n",
      "Data columns (total 18 columns):\n",
      " #   Column             Non-Null Count   Dtype  \n",
      "---  ------             --------------   -----  \n",
      " 0   Distributor        254082 non-null  object \n",
      " 1   Customer Name      254082 non-null  object \n",
      " 2   City               254082 non-null  object \n",
      " 3   Country            254082 non-null  object \n",
      " 4   Latitude           254082 non-null  float64\n",
      " 5   Longitude          254082 non-null  float64\n",
      " 6   Channel            254082 non-null  object \n",
      " 7   Sub-channel        254082 non-null  object \n",
      " 8   Product Name       254082 non-null  object \n",
      " 9   Product Class      254082 non-null  object \n",
      " 10  Quantity           254082 non-null  float64\n",
      " 11  Price              254082 non-null  int64  \n",
      " 12  Sales              254082 non-null  float64\n",
      " 13  Month              254082 non-null  object \n",
      " 14  Year               254082 non-null  int64  \n",
      " 15  Name of Sales Rep  254082 non-null  object \n",
      " 16  Manager            254082 non-null  object \n",
      " 17  Sales Team         254082 non-null  object \n",
      "dtypes: float64(4), int64(2), object(12)\n",
      "memory usage: 34.9+ MB\n"
     ]
    }
   ],
   "execution_count": 5
  },
  {
   "metadata": {
    "ExecuteTime": {
     "end_time": "2025-03-14T07:53:19.841383Z",
     "start_time": "2025-03-14T07:53:19.833987Z"
    }
   },
   "cell_type": "code",
   "source": "data.shape",
   "id": "b89af5d3dce84fe8",
   "outputs": [
    {
     "data": {
      "text/plain": [
       "(254082, 18)"
      ]
     },
     "execution_count": 6,
     "metadata": {},
     "output_type": "execute_result"
    }
   ],
   "execution_count": 6
  },
  {
   "metadata": {
    "ExecuteTime": {
     "end_time": "2025-03-14T07:53:20.033590Z",
     "start_time": "2025-03-14T07:53:19.914532Z"
    }
   },
   "cell_type": "code",
   "source": "data.isnull().sum()",
   "id": "9ebd191cfdc44047",
   "outputs": [
    {
     "data": {
      "text/plain": [
       "Distributor          0\n",
       "Customer Name        0\n",
       "City                 0\n",
       "Country              0\n",
       "Latitude             0\n",
       "Longitude            0\n",
       "Channel              0\n",
       "Sub-channel          0\n",
       "Product Name         0\n",
       "Product Class        0\n",
       "Quantity             0\n",
       "Price                0\n",
       "Sales                0\n",
       "Month                0\n",
       "Year                 0\n",
       "Name of Sales Rep    0\n",
       "Manager              0\n",
       "Sales Team           0\n",
       "dtype: int64"
      ]
     },
     "execution_count": 7,
     "metadata": {},
     "output_type": "execute_result"
    }
   ],
   "execution_count": 7
  },
  {
   "metadata": {
    "ExecuteTime": {
     "end_time": "2025-03-14T07:53:20.392987Z",
     "start_time": "2025-03-14T07:53:20.081319Z"
    }
   },
   "cell_type": "code",
   "source": "data.duplicated().sum()",
   "id": "94eabf6544f511fa",
   "outputs": [
    {
     "data": {
      "text/plain": [
       "4"
      ]
     },
     "execution_count": 8,
     "metadata": {},
     "output_type": "execute_result"
    }
   ],
   "execution_count": 8
  },
  {
   "metadata": {
    "ExecuteTime": {
     "end_time": "2025-03-14T07:53:20.798829Z",
     "start_time": "2025-03-14T07:53:20.425101Z"
    }
   },
   "cell_type": "code",
   "source": "data[data.duplicated()]",
   "id": "a69b2812ab7b910e",
   "outputs": [
    {
     "data": {
      "text/plain": [
       "            Distributor                           Customer Name  \\\n",
       "24328   Prohaska-Kuhic   Steuber, Skiles and Kilback Pharma Plc   \n",
       "57178          Erdman            Fritsch LLC Pharmaceutical Ltd   \n",
       "140251     Gerlach LLC             Crona PLC Pharmaceutical Ltd   \n",
       "177689     Gerlach LLC     Steuber, Skiles and Kilback Pharmacy   \n",
       "\n",
       "                            City  Country  Latitude  Longitude   Channel  \\\n",
       "24328                  Sosnowiec   Poland   50.3000    19.1667  Pharmacy   \n",
       "57178                    Mülheim  Germany   51.4283     6.8789  Hospital   \n",
       "140251  Schloß Holte-Stukenbrock  Germany   51.8833     8.6167  Pharmacy   \n",
       "177689                   Datteln  Germany   51.6539     7.3417  Pharmacy   \n",
       "\n",
       "        Sub-channel          Product Name Product Class  Quantity  Price  \\\n",
       "24328        Retail            Dasagestin    Analgesics      10.0    386   \n",
       "57178    Government            Amphesirox   Antiseptics      30.0     25   \n",
       "140251  Institution              Thionide    Analgesics      10.0    113   \n",
       "177689  Institution  Interfeferon Aspipex   Antiseptics      10.0    416   \n",
       "\n",
       "         Sales      Month  Year Name of Sales Rep         Manager Sales Team  \n",
       "24328   3860.0  September  2018      Mary Gerrard   Britanny Bold      Delta  \n",
       "57178    750.0      April  2017     Jessica Smith   Britanny Bold      Delta  \n",
       "140251  1130.0    October  2018       Erica Jones  James Goodwill       Alfa  \n",
       "177689  4160.0       June  2019          Alan Ray  James Goodwill       Alfa  "
      ],
      "text/html": [
       "<div>\n",
       "<style scoped>\n",
       "    .dataframe tbody tr th:only-of-type {\n",
       "        vertical-align: middle;\n",
       "    }\n",
       "\n",
       "    .dataframe tbody tr th {\n",
       "        vertical-align: top;\n",
       "    }\n",
       "\n",
       "    .dataframe thead th {\n",
       "        text-align: right;\n",
       "    }\n",
       "</style>\n",
       "<table border=\"1\" class=\"dataframe\">\n",
       "  <thead>\n",
       "    <tr style=\"text-align: right;\">\n",
       "      <th></th>\n",
       "      <th>Distributor</th>\n",
       "      <th>Customer Name</th>\n",
       "      <th>City</th>\n",
       "      <th>Country</th>\n",
       "      <th>Latitude</th>\n",
       "      <th>Longitude</th>\n",
       "      <th>Channel</th>\n",
       "      <th>Sub-channel</th>\n",
       "      <th>Product Name</th>\n",
       "      <th>Product Class</th>\n",
       "      <th>Quantity</th>\n",
       "      <th>Price</th>\n",
       "      <th>Sales</th>\n",
       "      <th>Month</th>\n",
       "      <th>Year</th>\n",
       "      <th>Name of Sales Rep</th>\n",
       "      <th>Manager</th>\n",
       "      <th>Sales Team</th>\n",
       "    </tr>\n",
       "  </thead>\n",
       "  <tbody>\n",
       "    <tr>\n",
       "      <th>24328</th>\n",
       "      <td>Prohaska-Kuhic</td>\n",
       "      <td>Steuber, Skiles and Kilback Pharma Plc</td>\n",
       "      <td>Sosnowiec</td>\n",
       "      <td>Poland</td>\n",
       "      <td>50.3000</td>\n",
       "      <td>19.1667</td>\n",
       "      <td>Pharmacy</td>\n",
       "      <td>Retail</td>\n",
       "      <td>Dasagestin</td>\n",
       "      <td>Analgesics</td>\n",
       "      <td>10.0</td>\n",
       "      <td>386</td>\n",
       "      <td>3860.0</td>\n",
       "      <td>September</td>\n",
       "      <td>2018</td>\n",
       "      <td>Mary Gerrard</td>\n",
       "      <td>Britanny Bold</td>\n",
       "      <td>Delta</td>\n",
       "    </tr>\n",
       "    <tr>\n",
       "      <th>57178</th>\n",
       "      <td>Erdman</td>\n",
       "      <td>Fritsch LLC Pharmaceutical Ltd</td>\n",
       "      <td>Mülheim</td>\n",
       "      <td>Germany</td>\n",
       "      <td>51.4283</td>\n",
       "      <td>6.8789</td>\n",
       "      <td>Hospital</td>\n",
       "      <td>Government</td>\n",
       "      <td>Amphesirox</td>\n",
       "      <td>Antiseptics</td>\n",
       "      <td>30.0</td>\n",
       "      <td>25</td>\n",
       "      <td>750.0</td>\n",
       "      <td>April</td>\n",
       "      <td>2017</td>\n",
       "      <td>Jessica Smith</td>\n",
       "      <td>Britanny Bold</td>\n",
       "      <td>Delta</td>\n",
       "    </tr>\n",
       "    <tr>\n",
       "      <th>140251</th>\n",
       "      <td>Gerlach LLC</td>\n",
       "      <td>Crona PLC Pharmaceutical Ltd</td>\n",
       "      <td>Schloß Holte-Stukenbrock</td>\n",
       "      <td>Germany</td>\n",
       "      <td>51.8833</td>\n",
       "      <td>8.6167</td>\n",
       "      <td>Pharmacy</td>\n",
       "      <td>Institution</td>\n",
       "      <td>Thionide</td>\n",
       "      <td>Analgesics</td>\n",
       "      <td>10.0</td>\n",
       "      <td>113</td>\n",
       "      <td>1130.0</td>\n",
       "      <td>October</td>\n",
       "      <td>2018</td>\n",
       "      <td>Erica Jones</td>\n",
       "      <td>James Goodwill</td>\n",
       "      <td>Alfa</td>\n",
       "    </tr>\n",
       "    <tr>\n",
       "      <th>177689</th>\n",
       "      <td>Gerlach LLC</td>\n",
       "      <td>Steuber, Skiles and Kilback Pharmacy</td>\n",
       "      <td>Datteln</td>\n",
       "      <td>Germany</td>\n",
       "      <td>51.6539</td>\n",
       "      <td>7.3417</td>\n",
       "      <td>Pharmacy</td>\n",
       "      <td>Institution</td>\n",
       "      <td>Interfeferon Aspipex</td>\n",
       "      <td>Antiseptics</td>\n",
       "      <td>10.0</td>\n",
       "      <td>416</td>\n",
       "      <td>4160.0</td>\n",
       "      <td>June</td>\n",
       "      <td>2019</td>\n",
       "      <td>Alan Ray</td>\n",
       "      <td>James Goodwill</td>\n",
       "      <td>Alfa</td>\n",
       "    </tr>\n",
       "  </tbody>\n",
       "</table>\n",
       "</div>"
      ]
     },
     "execution_count": 9,
     "metadata": {},
     "output_type": "execute_result"
    }
   ],
   "execution_count": 9
  },
  {
   "metadata": {
    "ExecuteTime": {
     "end_time": "2025-03-14T07:53:20.853951Z",
     "start_time": "2025-03-14T07:53:20.846773Z"
    }
   },
   "cell_type": "code",
   "source": "print(data['Year'].min(), data['Year'].max())",
   "id": "b9e84d58bba809ee",
   "outputs": [
    {
     "name": "stdout",
     "output_type": "stream",
     "text": [
      "2017 2020\n"
     ]
    }
   ],
   "execution_count": 10
  },
  {
   "metadata": {
    "ExecuteTime": {
     "end_time": "2025-03-14T07:53:20.924583Z",
     "start_time": "2025-03-14T07:53:20.913666Z"
    }
   },
   "cell_type": "code",
   "source": "print(data[(data['Year'] < 1900) | (data['Year'] > 2025)])",
   "id": "69e735dcd4e45ba2",
   "outputs": [
    {
     "name": "stdout",
     "output_type": "stream",
     "text": [
      "Empty DataFrame\n",
      "Columns: [Distributor, Customer Name, City, Country, Latitude, Longitude, Channel, Sub-channel, Product Name, Product Class, Quantity, Price, Sales, Month, Year, Name of Sales Rep, Manager, Sales Team]\n",
      "Index: []\n"
     ]
    }
   ],
   "execution_count": 11
  },
  {
   "metadata": {},
   "cell_type": "markdown",
   "source": [
    "İllər üzrə satışların trendləri necədir?\n",
    "Hər il üçün ümumi satış (Sales) və satılan məhsul sayı (Quantity) necə dəyişir?\n",
    "Ən çox satış hansı ildə olub?\n",
    "Satışların artımı/azalması varmı?\n",
    "\n",
    " How are sales trends changing over the years?\n",
    "How do total sales (Sales) and the number of products sold (Quantity) change each year?\n",
    "In which year was the highest sales recorded?\n",
    "Is there an increase or decrease in sales?"
   ],
   "id": "bf623ecdd97977b6"
  },
  {
   "metadata": {
    "ExecuteTime": {
     "end_time": "2025-03-14T07:54:00.476692Z",
     "start_time": "2025-03-14T07:54:00.355218Z"
    }
   },
   "cell_type": "code",
   "source": [
    "data.groupby('Year')['Sales'].mean().plot(kind='bar',figsize=(10,5))\n",
    "\n",
    "plt.title('Yearly Sales Trend')\n",
    "plt.xlabel('Year')\n",
    "plt.ylabel('Sales')\n",
    "plt.show()"
   ],
   "id": "59a834ccf80e0161",
   "outputs": [
    {
     "data": {
      "text/plain": [
       "<Figure size 1000x500 with 1 Axes>"
      ],
      "image/png": "[encoded data removed]"
     },
     "metadata": {},
     "output_type": "display_data"
    }
   ],
   "execution_count": 13
  },
  {
   "metadata": {},
   "cell_type": "markdown",
   "source": [
    "Hər ölkədə ən çox satılan məhsullar hansılardır?\n",
    "\n",
    "Which products are the best-selling in each country?"
   ],
   "id": "cf4ff6850a52a83d"
  },
  {
   "metadata": {
    "ExecuteTime": {
     "end_time": "2025-03-14T08:09:27.122559Z",
     "start_time": "2025-03-14T08:09:27.062908Z"
    }
   },
   "cell_type": "code",
   "source": [
    "top_productsBy_country=data.groupby(['Country','Product Name'])['Quantity'].sum().reset_index()\n",
    "top_productsBy_country = top_productsBy_country.sort_values(['Country', 'Quantity'],ascending=[True, False])\n",
    "\n",
    "top_productsBy_country.groupby('Country').head(1)"
   ],
   "id": "6bbeb0fe3596e15d",
   "outputs": [
    {
     "data": {
      "text/plain": [
       "     Country Product Name  Quantity\n",
       "133  Germany   Ionclotide  262463.0\n",
       "245   Poland    Acantaine   15522.0"
      ],
      "text/html": [
       "<div>\n",
       "<style scoped>\n",
       "    .dataframe tbody tr th:only-of-type {\n",
       "        vertical-align: middle;\n",
       "    }\n",
       "\n",
       "    .dataframe tbody tr th {\n",
       "        vertical-align: top;\n",
       "    }\n",
       "\n",
       "    .dataframe thead th {\n",
       "        text-align: right;\n",
       "    }\n",
       "</style>\n",
       "<table border=\"1\" class=\"dataframe\">\n",
       "  <thead>\n",
       "    <tr style=\"text-align: right;\">\n",
       "      <th></th>\n",
       "      <th>Country</th>\n",
       "      <th>Product Name</th>\n",
       "      <th>Quantity</th>\n",
       "    </tr>\n",
       "  </thead>\n",
       "  <tbody>\n",
       "    <tr>\n",
       "      <th>133</th>\n",
       "      <td>Germany</td>\n",
       "      <td>Ionclotide</td>\n",
       "      <td>262463.0</td>\n",
       "    </tr>\n",
       "    <tr>\n",
       "      <th>245</th>\n",
       "      <td>Poland</td>\n",
       "      <td>Acantaine</td>\n",
       "      <td>15522.0</td>\n",
       "    </tr>\n",
       "  </tbody>\n",
       "</table>\n",
       "</div>"
      ]
     },
     "execution_count": 17,
     "metadata": {},
     "output_type": "execute_result"
    }
   ],
   "execution_count": 17
  },
  {
   "metadata": {},
   "cell_type": "markdown",
   "source": [
    "Ən çox satış edən distribyutor kimdir?\n",
    "(Top 10)\n",
    "\n",
    "Who is the top-selling distributor?"
   ],
   "id": "86deb350dc93b8ea"
  },
  {
   "metadata": {
    "ExecuteTime": {
     "end_time": "2025-03-14T08:18:10.479007Z",
     "start_time": "2025-03-14T08:18:10.449093Z"
    }
   },
   "cell_type": "code",
   "source": [
    "best_distributor=data.groupby('Distributor')['Sales'].sum().sort_values(ascending=False)\n",
    "best_distributor.head(10)"
   ],
   "id": "24d342af1a7c199",
   "outputs": [
    {
     "data": {
      "text/plain": [
       "Distributor\n",
       "Gerlach LLC             3.501834e+09\n",
       "Koss                    3.087827e+09\n",
       "Erdman                  1.522610e+09\n",
       "Kozey-Emmerich          1.232932e+09\n",
       "Romaguera-Fay           4.449925e+08\n",
       "Bashirian-Kassulke      3.493407e+08\n",
       "Welch-Langworth         2.606324e+08\n",
       "Daugherty-Rempel        2.321302e+08\n",
       "Beier                   1.508344e+08\n",
       "Rohan and Sons          1.425120e+08\n",
       "Name: Sales, dtype: float64"
      ]
     },
     "execution_count": 21,
     "metadata": {},
     "output_type": "execute_result"
    }
   ],
   "execution_count": 21
  },
  {
   "metadata": {},
   "cell_type": "markdown",
   "source": [
    "Hər şəhərdə satış həcmi necə dəyişir?\n",
    "\n",
    "How does the sales volume change in each city?"
   ],
   "id": "f6abe40db5c4c39e"
  },
  {
   "metadata": {
    "ExecuteTime": {
     "end_time": "2025-03-14T08:24:37.791792Z",
     "start_time": "2025-03-14T08:24:37.744025Z"
    }
   },
   "cell_type": "code",
   "source": [
    "top_cities=data.groupby('City')['Sales'].sum().sort_values(ascending=False)\n",
    "\n",
    "top_cities.head(10)"
   ],
   "id": "26885bdbe5e2612",
   "outputs": [
    {
     "data": {
      "text/plain": [
       "City\n",
       "Butzbach          9.356178e+07\n",
       "Baesweiler        6.489050e+07\n",
       "Cuxhaven          5.600668e+07\n",
       "Friedberg         5.218363e+07\n",
       "Altenburg         5.088532e+07\n",
       "Emsdetten         4.593901e+07\n",
       "Bottrop           4.445462e+07\n",
       "Freising          4.377938e+07\n",
       "Trier             4.349563e+07\n",
       "Castrop-Rauxel    4.206666e+07\n",
       "Name: Sales, dtype: float64"
      ]
     },
     "execution_count": 22,
     "metadata": {},
     "output_type": "execute_result"
    }
   ],
   "execution_count": 22
  },
  {
   "metadata": {},
   "cell_type": "markdown",
   "source": [
    "Hansı məhsul sinifi (Product Class) daha çox gəlir gətirir?\n",
    "\n",
    "Which product class generates the most revenue?"
   ],
   "id": "9e019b969c5a712e"
  },
  {
   "metadata": {
    "ExecuteTime": {
     "end_time": "2025-03-14T07:53:21.431906Z",
     "start_time": "2025-03-14T07:53:21.427827Z"
    }
   },
   "cell_type": "code",
   "outputs": [],
   "execution_count": null,
   "source": "",
   "id": "b403552614c1fbd9"
  },
  {
   "metadata": {
    "ExecuteTime": {
     "end_time": "2025-03-14T07:53:21.473819Z",
     "start_time": "2025-03-14T07:53:21.469205Z"
    }
   },
   "cell_type": "code",
   "source": "",
   "id": "8f2675f2135231d",
   "outputs": [],
   "execution_count": null
  },
  {
   "metadata": {
    "ExecuteTime": {
     "end_time": "2025-03-14T07:53:21.515557Z",
     "start_time": "2025-03-14T07:53:21.510726Z"
    }
   },
   "cell_type": "code",
   "source": "",
   "id": "c244affd6fb9a5df",
   "outputs": [],
   "execution_count": null
  },
  {
   "metadata": {
    "ExecuteTime": {
     "end_time": "2025-03-14T07:53:21.537773Z",
     "start_time": "2025-03-14T07:53:21.534526Z"
    }
   },
   "cell_type": "code",
   "source": "",
   "id": "7fd432cf694f17df",
   "outputs": [],
   "execution_count": null
  },
  {
   "metadata": {
    "ExecuteTime": {
     "end_time": "2025-03-14T07:53:21.578953Z",
     "start_time": "2025-03-14T07:53:21.576578Z"
    }
   },
   "cell_type": "code",
   "source": "",
   "id": "5042ed79d6e0b9d7",
   "outputs": [],
   "execution_count": null
  },
  {
   "metadata": {
    "ExecuteTime": {
     "end_time": "2025-03-14T07:53:21.655031Z",
     "start_time": "2025-03-14T07:53:21.651519Z"
    }
   },
   "cell_type": "code",
   "source": "",
   "id": "ca787d2af6ec4b09",
   "outputs": [],
   "execution_count": null
  }
 ],
 "metadata": {
  "kernelspec": {
   "display_name": "Python 3",
   "language": "python",
   "name": "python3"
  },
  "language_info": {
   "codemirror_mode": {
    "name": "ipython",
    "version": 2
   },
   "file_extension": ".py",
   "mimetype": "text/x-python",
   "name": "python",
   "nbconvert_exporter": "python",
   "pygments_lexer": "ipython2",
   "version": "2.7.6"
  }
 },
 "nbformat": 4,
 "nbformat_minor": 5
}
